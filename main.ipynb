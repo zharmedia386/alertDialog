{
 "cells": [
  {
   "cell_type": "code",
   "execution_count": 1,
   "metadata": {},
   "outputs": [],
   "source": [
    "# Import all library needed\n",
    "from lib import *"
   ]
  },
  {
   "cell_type": "markdown",
   "metadata": {},
   "source": [
    "### Set up global variables for login purposes"
   ]
  },
  {
   "cell_type": "code",
   "execution_count": 2,
   "metadata": {},
   "outputs": [],
   "source": [
    "email = \"\"\n",
    "password = \"\"\n",
    "driver = None\n",
    "driveStorage = 0"
   ]
  },
  {
   "cell_type": "markdown",
   "metadata": {},
   "source": [
    "### STEP 1 - input email and password for drive account using pyqt5"
   ]
  },
  {
   "cell_type": "code",
   "execution_count": 3,
   "metadata": {},
   "outputs": [],
   "source": [
    "class LoginWindow(QWidget):\n",
    "   def __init__(self):\n",
    "      super().__init__()\n",
    "\n",
    "      self.UI()\n",
    "\n",
    "   def UI(self):\n",
    "      self.resize(300, 100)\n",
    "      self.move(300, 300)\n",
    "      self.setWindowTitle(\"Login Google Drive Account\")\n",
    "\n",
    "      # email attribute\n",
    "      self.email_label = QLabel(\"Email: \", self)\n",
    "      self.email_edit = QLineEdit(self)\n",
    "\n",
    "      # password attribute\n",
    "      self.password_label = QLabel(\"Password: \", self)\n",
    "      self.password_edit = QLineEdit(self)\n",
    "      self.password_edit.setEchoMode(QLineEdit.Password)\n",
    "      \n",
    "      # button login and cancel\n",
    "      self.login_button = QPushButton(\"Login\", self)\n",
    "\n",
    "      # button event\n",
    "      self.login_button.clicked.connect(self.login)\n",
    "\n",
    "      # layouting \n",
    "      layout = QGridLayout()\n",
    "      layout.addWidget(self.email_label, 0, 0)\n",
    "      layout.addWidget(self.email_edit, 0, 1)\n",
    "      layout.addWidget(self.password_label, 1, 0)\n",
    "      layout.addWidget(self.password_edit, 1, 1)\n",
    "      layout.addWidget(self.login_button, 2, 1, 1, 2)\n",
    "\n",
    "      self.setLayout(layout)\n",
    "      \n",
    "   def login(self):\n",
    "      global email, password\n",
    "      email = self.email_edit.text()\n",
    "      password = self.password_edit.text()\n",
    "      self.close()"
   ]
  },
  {
   "cell_type": "markdown",
   "metadata": {},
   "source": [
    "### STEP 2 - Login Google Account with certain email and passwords and get the storage Drive"
   ]
  },
  {
   "cell_type": "code",
   "execution_count": 4,
   "metadata": {},
   "outputs": [],
   "source": [
    "class ScrapeDriveStorage() :\n",
    "   def __init__(self):\n",
    "      # change value of driver global variable\n",
    "      global driver\n",
    "      driver = webdriver.Chrome('G:\\ChromeDriver\\chromedriver.exe')\n",
    "\n",
    "      self.loginGoogle()\n",
    "      self.getStorageDrive()\n",
    "\n",
    "   def loginGoogle(self):\n",
    "      driver.get('https://www.google.com/accounts/Login?hl=id&continue=http://www.google.co.jp/')\n",
    "      driver.maximize_window()\n",
    "\n",
    "      # get the element of input email and send_key\n",
    "      time.sleep(1)\n",
    "      driver.find_element_by_xpath(\"/html/body/div[1]/div[1]/div[2]/div/div[2]/div/div/div[2]/div/div[1]/div/form/span/section/div/div/div[1]/div/div[1]/div/div[1]/input\").send_keys(email)\n",
    "      driver.find_element_by_xpath(\"/html/body/div[1]/div[1]/div[2]/div/div[2]/div/div/div[2]/div/div[1]/div/form/span/section/div/div/div[1]/div/div[1]/div/div[1]/input\").send_keys(Keys.RETURN)\n",
    "\n",
    "      # get the element of input password and send_key\n",
    "      time.sleep(1)\n",
    "      passWordBox = driver.find_element_by_xpath('//*[@id =\"password\"]/div[1]/div / div[1]/input')\n",
    "      passWordBox.send_keys(password)\n",
    "\n",
    "      nextButton = driver.find_elements_by_xpath('//*[@id =\"passwordNext\"]')\n",
    "      nextButton[0].click()\n",
    "\n",
    "   def getStorageDrive(self):\n",
    "      # change value of driveStorage global variable\n",
    "      global driveStorage\n",
    "\n",
    "      # Get the size of used capacity\n",
    "      time.sleep(2)\n",
    "      driver.get('https://drive.google.com/drive/')\n",
    "      time.sleep(2)\n",
    "      size_used = driver.find_element_by_xpath(\"//div[contains(@class, 'QdYI6c')]\").text\n",
    "      print(f'Scrape result : {size_used}')\n",
    "\n",
    "      # Convert into float type\n",
    "      size_used = size_used.replace(' GB digunakan', '')\n",
    "      size_used = size_used.replace(',', '.')\n",
    "      driveStorage = float(size_used)\n",
    "      print(f'Your drive capasity is : {driveStorage} GB')\n"
   ]
  },
  {
   "cell_type": "markdown",
   "metadata": {},
   "source": [
    "### STEP 3 - Alert Dialog when exceeding capacity"
   ]
  },
  {
   "cell_type": "code",
   "execution_count": 5,
   "metadata": {},
   "outputs": [],
   "source": [
    "# Dialog if Exceeding Capacity\n",
    "class ExceedingLimit(QWidget):\n",
    "   def __init__(self):\n",
    "      super().__init__()\n",
    "\n",
    "      self.setupUi()\n",
    "   \n",
    "   def goToMultCloud(self) :\n",
    "      driver.get('https://www.multcloud.com/')\n",
    "      time.sleep(0.5)\n",
    "      self.close()\n",
    "      print('Go to MultCloud')\n",
    "\n",
    "   def setupUi(self):\n",
    "      # window customization\n",
    "      self.resize(400, 100)\n",
    "      self.move(300, 300)\n",
    "      self.setWindowTitle('Overload Drive Capacity')\n",
    "      \n",
    "      # Create a label widget\n",
    "      self.label = QLabel()\n",
    "      self.label.setText('Your current size is : ' + str(driveStorage) + ' GB and exceeding the maximum limit.\\n' + 'Transfer your files to others cloud platform using MultCloud now!' )\n",
    "      \n",
    "      # Create a button in the window\n",
    "      self.linkButton = QPushButton('\\t Go to MultCloud')\n",
    "      self.cancelButton = QPushButton('\\t Close')\n",
    "      \n",
    "      # Set Layout horizontally\n",
    "      hbox = QHBoxLayout()\n",
    "      hbox.addWidget(self.linkButton)\n",
    "      hbox.addWidget(self.cancelButton)\n",
    "\n",
    "      # set button click event\n",
    "      self.linkButton.clicked.connect(self.goToMultCloud)\n",
    "      self.cancelButton.clicked.connect(self.close)\n",
    "      \n",
    "      # Set Layout vertically\n",
    "      layout = QVBoxLayout()\n",
    "      layout.addWidget(self.label)\n",
    "      layout.addLayout(hbox)\n",
    "      self.setLayout(layout)\n",
    "\n",
    "\n",
    "# Dialog if not Exceeding Capacity\n",
    "class NotExceedingLimit(QWidget):\n",
    "   def __init__(self):\n",
    "      super().__init__()\n",
    "\n",
    "      self.setupUi()\n",
    "\n",
    "   def setupUi(self,):\n",
    "      # window customization\n",
    "      self.resize(400, 100)\n",
    "      self.move(300, 300)\n",
    "      self.setWindowTitle('Drive Capacity is stable')\n",
    "      \n",
    "      # Create a label widget\n",
    "      self.label = QLabel()\n",
    "      self.label.setText('Your current size is : ' + str(driveStorage) + ' GB and not exceeding the maximum limit.\\n')\n",
    "      \n",
    "      # Create a button in the window\n",
    "      self.cancelButton = QPushButton('\\t Close')\n",
    "      \n",
    "      # Set Layout horizontally\n",
    "      hbox = QHBoxLayout()\n",
    "      hbox.addWidget(self.cancelButton)\n",
    "\n",
    "      # set button click event\n",
    "      self.cancelButton.clicked.connect(self.close)\n",
    "      print('Your drive is not exceeding the limit')\n",
    "      \n",
    "      # Set Layout vertically\n",
    "      layout = QVBoxLayout()\n",
    "      layout.addWidget(self.label)\n",
    "      layout.addLayout(hbox)\n",
    "      self.setLayout(layout)"
   ]
  },
  {
   "cell_type": "code",
   "execution_count": 6,
   "metadata": {},
   "outputs": [
    {
     "name": "stderr",
     "output_type": "stream",
     "text": [
      "C:\\Users\\user\\AppData\\Local\\Temp\\ipykernel_14500\\3818729544.py:5: DeprecationWarning: executable_path has been deprecated, please pass in a Service object\n",
      "  driver = webdriver.Chrome('G:\\ChromeDriver\\chromedriver.exe')\n",
      "C:\\Users\\user\\AppData\\Local\\Temp\\ipykernel_14500\\3818729544.py:16: DeprecationWarning: find_element_by_xpath is deprecated. Please use find_element(by=By.XPATH, value=xpath) instead\n",
      "  driver.find_element_by_xpath(\"/html/body/div[1]/div[1]/div[2]/div/div[2]/div/div/div[2]/div/div[1]/div/form/span/section/div/div/div[1]/div/div[1]/div/div[1]/input\").send_keys(email)\n",
      "C:\\Users\\user\\AppData\\Local\\Temp\\ipykernel_14500\\3818729544.py:17: DeprecationWarning: find_element_by_xpath is deprecated. Please use find_element(by=By.XPATH, value=xpath) instead\n",
      "  driver.find_element_by_xpath(\"/html/body/div[1]/div[1]/div[2]/div/div[2]/div/div/div[2]/div/div[1]/div/form/span/section/div/div/div[1]/div/div[1]/div/div[1]/input\").send_keys(Keys.RETURN)\n",
      "C:\\Users\\user\\AppData\\Local\\Temp\\ipykernel_14500\\3818729544.py:21: DeprecationWarning: find_element_by_xpath is deprecated. Please use find_element(by=By.XPATH, value=xpath) instead\n",
      "  passWordBox = driver.find_element_by_xpath('//*[@id =\"password\"]/div[1]/div / div[1]/input')\n"
     ]
    },
    {
     "ename": "ElementNotInteractableException",
     "evalue": "Message: element not interactable\n  (Session info: chrome=100.0.4896.60)\nStacktrace:\nBacktrace:\n\tOrdinal0 [0x00CE9943+2595139]\n\tOrdinal0 [0x00C7C9F1+2148849]\n\tOrdinal0 [0x00B743F0+1065968]\n\tOrdinal0 [0x00B9C4D3+1230035]\n\tOrdinal0 [0x00B9BB8B+1227659]\n\tOrdinal0 [0x00BBB9EC+1358316]\n\tOrdinal0 [0x00B97474+1209460]\n\tOrdinal0 [0x00BBBC04+1358852]\n\tOrdinal0 [0x00BCBAF2+1424114]\n\tOrdinal0 [0x00BBB806+1357830]\n\tOrdinal0 [0x00B96086+1204358]\n\tOrdinal0 [0x00B96F96+1208214]\n\tGetHandleVerifier [0x00E8B232+1658114]\n\tGetHandleVerifier [0x00F4312C+2411516]\n\tGetHandleVerifier [0x00D7F261+560433]\n\tGetHandleVerifier [0x00D7E366+556598]\n\tOrdinal0 [0x00C8286B+2173035]\n\tOrdinal0 [0x00C875F8+2192888]\n\tOrdinal0 [0x00C876E5+2193125]\n\tOrdinal0 [0x00C911FC+2232828]\n\tBaseThreadInitThunk [0x76556739+25]\n\tRtlGetFullPathName_UEx [0x77488E7F+1215]\n\tRtlGetFullPathName_UEx [0x77488E4D+1165]\n",
     "output_type": "error",
     "traceback": [
      "\u001b[1;31m---------------------------------------------------------------------------\u001b[0m",
      "\u001b[1;31mElementNotInteractableException\u001b[0m           Traceback (most recent call last)",
      "\u001b[1;32mg:\\00_ZHAR_PROJECT_1\\JTK POLBAN\\00_SEMESTER 4\\Analisis dan Perancangan Perangkat Lunak 1\\PRAKTEK\\Google Drive Plugin\\main.ipynb Cell 10'\u001b[0m in \u001b[0;36m<cell line: 2>\u001b[1;34m()\u001b[0m\n\u001b[0;32m     <a href='vscode-notebook-cell:/g%3A/00_ZHAR_PROJECT_1/JTK%20POLBAN/00_SEMESTER%204/Analisis%20dan%20Perancangan%20Perangkat%20Lunak%201/PRAKTEK/Google%20Drive%20Plugin/main.ipynb#ch0000021?line=11'>12</a>\u001b[0m \u001b[39m# get the storage drive\u001b[39;00m\n\u001b[0;32m     <a href='vscode-notebook-cell:/g%3A/00_ZHAR_PROJECT_1/JTK%20POLBAN/00_SEMESTER%204/Analisis%20dan%20Perancangan%20Perangkat%20Lunak%201/PRAKTEK/Google%20Drive%20Plugin/main.ipynb#ch0000021?line=12'>13</a>\u001b[0m \u001b[39mif\u001b[39;00m email \u001b[39m!=\u001b[39m \u001b[39m'\u001b[39m\u001b[39m'\u001b[39m \u001b[39mand\u001b[39;00m password \u001b[39m!=\u001b[39m \u001b[39m'\u001b[39m\u001b[39m'\u001b[39m :\n\u001b[1;32m---> <a href='vscode-notebook-cell:/g%3A/00_ZHAR_PROJECT_1/JTK%20POLBAN/00_SEMESTER%204/Analisis%20dan%20Perancangan%20Perangkat%20Lunak%201/PRAKTEK/Google%20Drive%20Plugin/main.ipynb#ch0000021?line=13'>14</a>\u001b[0m    ScrapeDriveStorage()\n\u001b[0;32m     <a href='vscode-notebook-cell:/g%3A/00_ZHAR_PROJECT_1/JTK%20POLBAN/00_SEMESTER%204/Analisis%20dan%20Perancangan%20Perangkat%20Lunak%201/PRAKTEK/Google%20Drive%20Plugin/main.ipynb#ch0000021?line=15'>16</a>\u001b[0m \u001b[39m# if the size is exceeding the limit, show the message\u001b[39;00m\n\u001b[0;32m     <a href='vscode-notebook-cell:/g%3A/00_ZHAR_PROJECT_1/JTK%20POLBAN/00_SEMESTER%204/Analisis%20dan%20Perancangan%20Perangkat%20Lunak%201/PRAKTEK/Google%20Drive%20Plugin/main.ipynb#ch0000021?line=16'>17</a>\u001b[0m \u001b[39mif\u001b[39;00m driveStorage \u001b[39m!=\u001b[39m \u001b[39m0\u001b[39m :\n",
      "\u001b[1;32mg:\\00_ZHAR_PROJECT_1\\JTK POLBAN\\00_SEMESTER 4\\Analisis dan Perancangan Perangkat Lunak 1\\PRAKTEK\\Google Drive Plugin\\main.ipynb Cell 7'\u001b[0m in \u001b[0;36mScrapeDriveStorage.__init__\u001b[1;34m(self)\u001b[0m\n\u001b[0;32m      <a href='vscode-notebook-cell:/g%3A/00_ZHAR_PROJECT_1/JTK%20POLBAN/00_SEMESTER%204/Analisis%20dan%20Perancangan%20Perangkat%20Lunak%201/PRAKTEK/Google%20Drive%20Plugin/main.ipynb#ch0000018?line=3'>4</a>\u001b[0m \u001b[39mglobal\u001b[39;00m driver\n\u001b[0;32m      <a href='vscode-notebook-cell:/g%3A/00_ZHAR_PROJECT_1/JTK%20POLBAN/00_SEMESTER%204/Analisis%20dan%20Perancangan%20Perangkat%20Lunak%201/PRAKTEK/Google%20Drive%20Plugin/main.ipynb#ch0000018?line=4'>5</a>\u001b[0m driver \u001b[39m=\u001b[39m webdriver\u001b[39m.\u001b[39mChrome(\u001b[39m'\u001b[39m\u001b[39mG:\u001b[39m\u001b[39m\\\u001b[39m\u001b[39mChromeDriver\u001b[39m\u001b[39m\\\u001b[39m\u001b[39mchromedriver.exe\u001b[39m\u001b[39m'\u001b[39m)\n\u001b[1;32m----> <a href='vscode-notebook-cell:/g%3A/00_ZHAR_PROJECT_1/JTK%20POLBAN/00_SEMESTER%204/Analisis%20dan%20Perancangan%20Perangkat%20Lunak%201/PRAKTEK/Google%20Drive%20Plugin/main.ipynb#ch0000018?line=6'>7</a>\u001b[0m \u001b[39mself\u001b[39;49m\u001b[39m.\u001b[39;49mloginGoogle()\n\u001b[0;32m      <a href='vscode-notebook-cell:/g%3A/00_ZHAR_PROJECT_1/JTK%20POLBAN/00_SEMESTER%204/Analisis%20dan%20Perancangan%20Perangkat%20Lunak%201/PRAKTEK/Google%20Drive%20Plugin/main.ipynb#ch0000018?line=7'>8</a>\u001b[0m \u001b[39mself\u001b[39m\u001b[39m.\u001b[39mgetStorageDrive()\n",
      "\u001b[1;32mg:\\00_ZHAR_PROJECT_1\\JTK POLBAN\\00_SEMESTER 4\\Analisis dan Perancangan Perangkat Lunak 1\\PRAKTEK\\Google Drive Plugin\\main.ipynb Cell 7'\u001b[0m in \u001b[0;36mScrapeDriveStorage.loginGoogle\u001b[1;34m(self)\u001b[0m\n\u001b[0;32m     <a href='vscode-notebook-cell:/g%3A/00_ZHAR_PROJECT_1/JTK%20POLBAN/00_SEMESTER%204/Analisis%20dan%20Perancangan%20Perangkat%20Lunak%201/PRAKTEK/Google%20Drive%20Plugin/main.ipynb#ch0000018?line=19'>20</a>\u001b[0m time\u001b[39m.\u001b[39msleep(\u001b[39m1\u001b[39m)\n\u001b[0;32m     <a href='vscode-notebook-cell:/g%3A/00_ZHAR_PROJECT_1/JTK%20POLBAN/00_SEMESTER%204/Analisis%20dan%20Perancangan%20Perangkat%20Lunak%201/PRAKTEK/Google%20Drive%20Plugin/main.ipynb#ch0000018?line=20'>21</a>\u001b[0m passWordBox \u001b[39m=\u001b[39m driver\u001b[39m.\u001b[39mfind_element_by_xpath(\u001b[39m'\u001b[39m\u001b[39m//*[@id =\u001b[39m\u001b[39m\"\u001b[39m\u001b[39mpassword\u001b[39m\u001b[39m\"\u001b[39m\u001b[39m]/div[1]/div / div[1]/input\u001b[39m\u001b[39m'\u001b[39m)\n\u001b[1;32m---> <a href='vscode-notebook-cell:/g%3A/00_ZHAR_PROJECT_1/JTK%20POLBAN/00_SEMESTER%204/Analisis%20dan%20Perancangan%20Perangkat%20Lunak%201/PRAKTEK/Google%20Drive%20Plugin/main.ipynb#ch0000018?line=21'>22</a>\u001b[0m passWordBox\u001b[39m.\u001b[39;49msend_keys(password)\n\u001b[0;32m     <a href='vscode-notebook-cell:/g%3A/00_ZHAR_PROJECT_1/JTK%20POLBAN/00_SEMESTER%204/Analisis%20dan%20Perancangan%20Perangkat%20Lunak%201/PRAKTEK/Google%20Drive%20Plugin/main.ipynb#ch0000018?line=23'>24</a>\u001b[0m nextButton \u001b[39m=\u001b[39m driver\u001b[39m.\u001b[39mfind_elements_by_xpath(\u001b[39m'\u001b[39m\u001b[39m//*[@id =\u001b[39m\u001b[39m\"\u001b[39m\u001b[39mpasswordNext\u001b[39m\u001b[39m\"\u001b[39m\u001b[39m]\u001b[39m\u001b[39m'\u001b[39m)\n\u001b[0;32m     <a href='vscode-notebook-cell:/g%3A/00_ZHAR_PROJECT_1/JTK%20POLBAN/00_SEMESTER%204/Analisis%20dan%20Perancangan%20Perangkat%20Lunak%201/PRAKTEK/Google%20Drive%20Plugin/main.ipynb#ch0000018?line=24'>25</a>\u001b[0m nextButton[\u001b[39m0\u001b[39m]\u001b[39m.\u001b[39mclick()\n",
      "File \u001b[1;32mG:\\Python\\lib\\site-packages\\selenium\\webdriver\\remote\\webelement.py:540\u001b[0m, in \u001b[0;36mWebElement.send_keys\u001b[1;34m(self, *value)\u001b[0m\n\u001b[0;32m    <a href='file:///g%3A/Python/lib/site-packages/selenium/webdriver/remote/webelement.py?line=536'>537</a>\u001b[0m             remote_files\u001b[39m.\u001b[39mappend(\u001b[39mself\u001b[39m\u001b[39m.\u001b[39m_upload(file))\n\u001b[0;32m    <a href='file:///g%3A/Python/lib/site-packages/selenium/webdriver/remote/webelement.py?line=537'>538</a>\u001b[0m         value \u001b[39m=\u001b[39m \u001b[39m'\u001b[39m\u001b[39m\\n\u001b[39;00m\u001b[39m'\u001b[39m\u001b[39m.\u001b[39mjoin(remote_files)\n\u001b[1;32m--> <a href='file:///g%3A/Python/lib/site-packages/selenium/webdriver/remote/webelement.py?line=539'>540</a>\u001b[0m \u001b[39mself\u001b[39;49m\u001b[39m.\u001b[39;49m_execute(Command\u001b[39m.\u001b[39;49mSEND_KEYS_TO_ELEMENT,\n\u001b[0;32m    <a href='file:///g%3A/Python/lib/site-packages/selenium/webdriver/remote/webelement.py?line=540'>541</a>\u001b[0m               {\u001b[39m'\u001b[39;49m\u001b[39mtext\u001b[39;49m\u001b[39m'\u001b[39;49m: \u001b[39m\"\u001b[39;49m\u001b[39m\"\u001b[39;49m\u001b[39m.\u001b[39;49mjoin(keys_to_typing(value)),\n\u001b[0;32m    <a href='file:///g%3A/Python/lib/site-packages/selenium/webdriver/remote/webelement.py?line=541'>542</a>\u001b[0m                \u001b[39m'\u001b[39;49m\u001b[39mvalue\u001b[39;49m\u001b[39m'\u001b[39;49m: keys_to_typing(value)})\n",
      "File \u001b[1;32mG:\\Python\\lib\\site-packages\\selenium\\webdriver\\remote\\webelement.py:710\u001b[0m, in \u001b[0;36mWebElement._execute\u001b[1;34m(self, command, params)\u001b[0m\n\u001b[0;32m    <a href='file:///g%3A/Python/lib/site-packages/selenium/webdriver/remote/webelement.py?line=707'>708</a>\u001b[0m     params \u001b[39m=\u001b[39m {}\n\u001b[0;32m    <a href='file:///g%3A/Python/lib/site-packages/selenium/webdriver/remote/webelement.py?line=708'>709</a>\u001b[0m params[\u001b[39m'\u001b[39m\u001b[39mid\u001b[39m\u001b[39m'\u001b[39m] \u001b[39m=\u001b[39m \u001b[39mself\u001b[39m\u001b[39m.\u001b[39m_id\n\u001b[1;32m--> <a href='file:///g%3A/Python/lib/site-packages/selenium/webdriver/remote/webelement.py?line=709'>710</a>\u001b[0m \u001b[39mreturn\u001b[39;00m \u001b[39mself\u001b[39;49m\u001b[39m.\u001b[39;49m_parent\u001b[39m.\u001b[39;49mexecute(command, params)\n",
      "File \u001b[1;32mG:\\Python\\lib\\site-packages\\selenium\\webdriver\\remote\\webdriver.py:425\u001b[0m, in \u001b[0;36mWebDriver.execute\u001b[1;34m(self, driver_command, params)\u001b[0m\n\u001b[0;32m    <a href='file:///g%3A/Python/lib/site-packages/selenium/webdriver/remote/webdriver.py?line=422'>423</a>\u001b[0m response \u001b[39m=\u001b[39m \u001b[39mself\u001b[39m\u001b[39m.\u001b[39mcommand_executor\u001b[39m.\u001b[39mexecute(driver_command, params)\n\u001b[0;32m    <a href='file:///g%3A/Python/lib/site-packages/selenium/webdriver/remote/webdriver.py?line=423'>424</a>\u001b[0m \u001b[39mif\u001b[39;00m response:\n\u001b[1;32m--> <a href='file:///g%3A/Python/lib/site-packages/selenium/webdriver/remote/webdriver.py?line=424'>425</a>\u001b[0m     \u001b[39mself\u001b[39;49m\u001b[39m.\u001b[39;49merror_handler\u001b[39m.\u001b[39;49mcheck_response(response)\n\u001b[0;32m    <a href='file:///g%3A/Python/lib/site-packages/selenium/webdriver/remote/webdriver.py?line=425'>426</a>\u001b[0m     response[\u001b[39m'\u001b[39m\u001b[39mvalue\u001b[39m\u001b[39m'\u001b[39m] \u001b[39m=\u001b[39m \u001b[39mself\u001b[39m\u001b[39m.\u001b[39m_unwrap_value(\n\u001b[0;32m    <a href='file:///g%3A/Python/lib/site-packages/selenium/webdriver/remote/webdriver.py?line=426'>427</a>\u001b[0m         response\u001b[39m.\u001b[39mget(\u001b[39m'\u001b[39m\u001b[39mvalue\u001b[39m\u001b[39m'\u001b[39m, \u001b[39mNone\u001b[39;00m))\n\u001b[0;32m    <a href='file:///g%3A/Python/lib/site-packages/selenium/webdriver/remote/webdriver.py?line=427'>428</a>\u001b[0m     \u001b[39mreturn\u001b[39;00m response\n",
      "File \u001b[1;32mG:\\Python\\lib\\site-packages\\selenium\\webdriver\\remote\\errorhandler.py:247\u001b[0m, in \u001b[0;36mErrorHandler.check_response\u001b[1;34m(self, response)\u001b[0m\n\u001b[0;32m    <a href='file:///g%3A/Python/lib/site-packages/selenium/webdriver/remote/errorhandler.py?line=244'>245</a>\u001b[0m         alert_text \u001b[39m=\u001b[39m value[\u001b[39m'\u001b[39m\u001b[39malert\u001b[39m\u001b[39m'\u001b[39m]\u001b[39m.\u001b[39mget(\u001b[39m'\u001b[39m\u001b[39mtext\u001b[39m\u001b[39m'\u001b[39m)\n\u001b[0;32m    <a href='file:///g%3A/Python/lib/site-packages/selenium/webdriver/remote/errorhandler.py?line=245'>246</a>\u001b[0m     \u001b[39mraise\u001b[39;00m exception_class(message, screen, stacktrace, alert_text)  \u001b[39m# type: ignore[call-arg]  # mypy is not smart enough here\u001b[39;00m\n\u001b[1;32m--> <a href='file:///g%3A/Python/lib/site-packages/selenium/webdriver/remote/errorhandler.py?line=246'>247</a>\u001b[0m \u001b[39mraise\u001b[39;00m exception_class(message, screen, stacktrace)\n",
      "\u001b[1;31mElementNotInteractableException\u001b[0m: Message: element not interactable\n  (Session info: chrome=100.0.4896.60)\nStacktrace:\nBacktrace:\n\tOrdinal0 [0x00CE9943+2595139]\n\tOrdinal0 [0x00C7C9F1+2148849]\n\tOrdinal0 [0x00B743F0+1065968]\n\tOrdinal0 [0x00B9C4D3+1230035]\n\tOrdinal0 [0x00B9BB8B+1227659]\n\tOrdinal0 [0x00BBB9EC+1358316]\n\tOrdinal0 [0x00B97474+1209460]\n\tOrdinal0 [0x00BBBC04+1358852]\n\tOrdinal0 [0x00BCBAF2+1424114]\n\tOrdinal0 [0x00BBB806+1357830]\n\tOrdinal0 [0x00B96086+1204358]\n\tOrdinal0 [0x00B96F96+1208214]\n\tGetHandleVerifier [0x00E8B232+1658114]\n\tGetHandleVerifier [0x00F4312C+2411516]\n\tGetHandleVerifier [0x00D7F261+560433]\n\tGetHandleVerifier [0x00D7E366+556598]\n\tOrdinal0 [0x00C8286B+2173035]\n\tOrdinal0 [0x00C875F8+2192888]\n\tOrdinal0 [0x00C876E5+2193125]\n\tOrdinal0 [0x00C911FC+2232828]\n\tBaseThreadInitThunk [0x76556739+25]\n\tRtlGetFullPathName_UEx [0x77488E7F+1215]\n\tRtlGetFullPathName_UEx [0x77488E4D+1165]\n"
     ]
    }
   ],
   "source": [
    "# Main Function\n",
    "if __name__ == '__main__':\n",
    "   # QApplication object\n",
    "   app = QApplication(sys.argv)\n",
    "   \n",
    "   # login first\n",
    "   login = LoginWindow()\n",
    "   login.show()\n",
    "\n",
    "   app.exec_()\n",
    "\n",
    "   # get the storage drive\n",
    "   if email != '' and password != '' :\n",
    "      ScrapeDriveStorage()\n",
    "\n",
    "   # if the size is exceeding the limit, show the message\n",
    "   if driveStorage != 0 :\n",
    "      if driveStorage > 4 :\n",
    "         form = ExceedingLimit() # exceed limit\n",
    "      else :\n",
    "         form = NotExceedingLimit() # not exceed limit\n",
    "      form.show()\n",
    "      app.exec_()"
   ]
  }
 ],
 "metadata": {
  "interpreter": {
   "hash": "ce6aad8c45caeeb6626ba3de0a4d90a99f0b39c32ab5b8ae3065d88faa543442"
  },
  "kernelspec": {
   "display_name": "Python 3.10.2 64-bit",
   "language": "python",
   "name": "python3"
  },
  "language_info": {
   "codemirror_mode": {
    "name": "ipython",
    "version": 3
   },
   "file_extension": ".py",
   "mimetype": "text/x-python",
   "name": "python",
   "nbconvert_exporter": "python",
   "pygments_lexer": "ipython3",
   "version": "3.10.2"
  },
  "orig_nbformat": 4
 },
 "nbformat": 4,
 "nbformat_minor": 2
}
